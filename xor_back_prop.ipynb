{
 "cells": [
  {
   "cell_type": "code",
   "execution_count": 17,
   "metadata": {},
   "outputs": [],
   "source": [
    "import numpy as np\n",
    "import matplotlib.pyplot as plt\n",
    "import random"
   ]
  },
  {
   "cell_type": "code",
   "execution_count": 18,
   "metadata": {},
   "outputs": [
    {
     "data": {
      "image/png": "[encoded data removed]",
      "text/plain": [
       "<Figure size 432x288 with 1 Axes>"
      ]
     },
     "metadata": {
      "needs_background": "light"
     },
     "output_type": "display_data"
    }
   ],
   "source": [
    "# Visualization of XOR in 2-D Space\n",
    "\n",
    "plt.plot([1,0], [1,0], 'ro', marker=\"+\", markersize=20,  color = 'blue')\n",
    "plt.plot([1,0], [0,1], 'ro', marker=\"_\", markersize=20,  color = 'red')\n",
    "plt.axis([-0.1, 1.1, -0.1, 1.1])\n",
    "plt.xlabel('First input of x',size=10)\n",
    "plt.ylabel('Second input of x',size=10)\n",
    "plt.show()"
   ]
  },
  {
   "cell_type": "code",
   "execution_count": 19,
   "metadata": {},
   "outputs": [],
   "source": [
    "# Sigmoid Function\n",
    "def sigm(x):\n",
    "    return 1/(1+ np.exp(-x))\n",
    "\n",
    "# Derivative of Sigmoid Function\n",
    "def der(x): # takes sigmoid of x\n",
    "    return x*(1-x)\n",
    "\n",
    "# Propogation\n",
    "def prop(lr, epochs, noise):\n",
    "    \n",
    "    # Variables Initialization\n",
    "    \n",
    "    x = np.array([[1,1],[0,0],[1,0],[0,1]])    # Input matrix\n",
    "    x = np.random.normal(loc=x, scale=noise)   # adding gaussian noise\n",
    "    y = np.array([[1],[1],[-1],[-1]])          # Target Output\n",
    "    w_hidden = np.random.rand(2,2)             # 2x2 random Hidden weights\n",
    "    w_out = np.random.rand(2,1)                # 2x1 random output weights\n",
    "\n",
    "    in_h = np.zeros((4,2))                     # Input at Hidden Layer\n",
    "    out_h = np.zeros((4,2))                    # Output from Hidden Layer\n",
    "    out_y = np.zeros((4,1))                    # Estimated Output\n",
    "\n",
    "    for i in range(epochs):\n",
    "    \n",
    "    # Forward Propogation\n",
    "        in_h = np.matmul(x,w_hidden)\n",
    "        out_h = sigm(in_h)\n",
    "        out_y = np.matmul(out_h, w_out)\n",
    "    \n",
    "    # Backward Propogation\n",
    "        error = y - out_y\n",
    "        del_2 = error * lr\n",
    "        w_out = w_out + np.matmul(out_h.T, del_2)\n",
    "    \n",
    "        del_1 = np.matmul(del_2, w_out.T) * der(out_h)\n",
    "        w_hidden = w_hidden + np.matmul(x.T, del_1)\n",
    "        \n",
    "    return(w_hidden, w_out)\n",
    "\n",
    "\n",
    "# Predict function uses weights to predict outputs on new inputs\n",
    "def predict(x, W_hidden, W_out):\n",
    "    in_h = np.matmul(x,W_hidden)\n",
    "    out_h = sigm(in_h)\n",
    "    out_y = np.matmul(out_h,W_out)\n",
    "    return out_y"
   ]
  },
  {
   "cell_type": "code",
   "execution_count": 20,
   "metadata": {},
   "outputs": [],
   "source": [
    "lr = 0.01         # Learning Rate\n",
    "epochs = 100000   # Epochs\n",
    "noise = 0      # Gaussian Noise\n",
    "W_hidden, W_out = prop(lr, epochs, noise)"
   ]
  },
  {
   "cell_type": "code",
   "execution_count": 21,
   "metadata": {},
   "outputs": [
    {
     "name": "stdout",
     "output_type": "stream",
     "text": [
      "Hidden Weights (w1, w2, w3, w4) : 6.148254217, 1.26573292187, 6.14334802096, 1.26568078182\n",
      "Output Weights (w5, w6)         : -11.7649313667, 13.7724855548\n"
     ]
    }
   ],
   "source": [
    "print(\"Hidden Weights (w1, w2, w3, w4) : {}, {}, {}, {}\".format(W_hidden[0][0], W_hidden[0][1], W_hidden[1][0], W_hidden[1][1]))\n",
    "print(\"Output Weights (w5, w6)         : {}, {}\".format(W_out[0][0], W_out[1][0]))"
   ]
  },
  {
   "cell_type": "code",
   "execution_count": 22,
   "metadata": {},
   "outputs": [
    {
     "data": {
      "image/png": "[encoded data removed]",
      "text/plain": [
       "<Figure size 432x288 with 1 Axes>"
      ]
     },
     "metadata": {
      "needs_background": "light"
     },
     "output_type": "display_data"
    },
    {
     "name": "stdout",
     "output_type": "stream",
     "text": [
      "(760, 240)\n"
     ]
    }
   ],
   "source": [
    "# Classification Region in 2-D (Without Gaussian Noise)\n",
    "\n",
    "random_inputs = np.random.uniform(low=-2, high=2, size=(1000,2))\n",
    "k = predict(random_inputs, W_hidden, W_out)\n",
    "plus = 0\n",
    "minus = 0\n",
    "for i in range (1000):\n",
    "    if k[i][0] >= 0:\n",
    "        plus = plus + 1\n",
    "        plt.plot(random_inputs[i,0], random_inputs[i,1], 'ro', marker=\"+\", color = 'blue')\n",
    "    else:\n",
    "        minus = minus +1\n",
    "        plt.plot(random_inputs[i,0], random_inputs[i,1], 'ro', marker=\"_\", color = 'red')\n",
    "plt.axis([-2.1, 2.1, -2.1, 2.1])\n",
    "plt.xlabel('First input of x',size=10)\n",
    "plt.ylabel('Second input of x',size=10)\n",
    "plt.show()\n",
    "print(plus, minus)"
   ]
  }
 ],
 "metadata": {
  "kernelspec": {
   "display_name": "Python 3",
   "language": "python",
   "name": "python3"
  },
  "language_info": {
   "codemirror_mode": {
    "name": "ipython",
    "version": 2
   },
   "file_extension": ".py",
   "mimetype": "text/x-python",
   "name": "python",
   "nbconvert_exporter": "python",
   "pygments_lexer": "ipython2",
   "version": "2.7.12"
  }
 },
 "nbformat": 4,
 "nbformat_minor": 2
}
